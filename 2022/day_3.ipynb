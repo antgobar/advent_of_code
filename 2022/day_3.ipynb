{
 "cells": [
  {
   "cell_type": "code",
   "execution_count": null,
   "id": "f3dfc187",
   "metadata": {},
   "outputs": [],
   "source": [
    "data = \"\"\"vJrwpWtwJgWrhcsFMMfFFhFp\n",
    "jqHRNqRjqzjGDLGLrsFMfFZSrLrFZsSL\n",
    "PmmdzqPrVvPwwTWBwg\n",
    "wMqvLMZHhHMvwLHjbvcjnnSBnvTQFn\n",
    "ttgJtRGJQctTZtZT\n",
    "CrZsJsPPZsGzwwsLwLmpwMDw\"\"\"\n",
    "rucksacks = data.split(\"\\n\")"
   ]
  },
  {
   "cell_type": "code",
   "execution_count": 1,
   "id": "70012e9a",
   "metadata": {},
   "outputs": [
    {
     "name": "stdout",
     "output_type": "stream",
     "text": [
      "7446\n",
      "2646\n"
     ]
    }
   ],
   "source": [
    "import string\n",
    "\n",
    "all_chars = string.ascii_lowercase + string.ascii_uppercase\n",
    "char_scores =  {char: i  for char, i in zip(all_chars, range(1, len(all_chars) + 1))}\n",
    "\n",
    "with open(\"day_3_input.txt\", \"r\") as f:\n",
    "    data = f.readlines()\n",
    "    \n",
    "rucksacks = [datum.strip(\"\\n\") for datum in data]\n",
    "\n",
    "part_1_total = 0\n",
    "\n",
    "for rucksack in rucksacks:\n",
    "    halflength = len(rucksack) // 2\n",
    "    first, second = rucksack[:halflength], rucksack[halflength:]\n",
    "    dupes = []\n",
    "    for char in first:\n",
    "        if char in second:\n",
    "            dupes.append(char)\n",
    "    part_1_total += char_scores[list(set(dupes))[0]]\n",
    "\n",
    "print(part_1_total)\n",
    "\n",
    "part_2_total = 0\n",
    "\n",
    "for i in range(0, len(rucksacks), 3):\n",
    "    a, b, c = rucksacks[i:i+3]\n",
    "    dupes = []\n",
    "    for char in all_chars:\n",
    "        if char in a and char in b and char in c:\n",
    "            dupes.append(char)\n",
    "    part_2_total += char_scores[list(set(dupes))[0]]\n",
    "    \n",
    "print(part_2_total)"
   ]
  },
  {
   "cell_type": "code",
   "execution_count": null,
   "id": "c5c6506c",
   "metadata": {},
   "outputs": [],
   "source": []
  }
 ],
 "metadata": {
  "kernelspec": {
   "display_name": "Python 3 (ipykernel)",
   "language": "python",
   "name": "python3"
  },
  "language_info": {
   "codemirror_mode": {
    "name": "ipython",
    "version": 3
   },
   "file_extension": ".py",
   "mimetype": "text/x-python",
   "name": "python",
   "nbconvert_exporter": "python",
   "pygments_lexer": "ipython3",
   "version": "3.10.8"
  }
 },
 "nbformat": 4,
 "nbformat_minor": 5
}
