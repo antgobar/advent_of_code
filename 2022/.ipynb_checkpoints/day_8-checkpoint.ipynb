{
 "cells": [
  {
   "cell_type": "code",
   "execution_count": 23,
   "id": "unsigned-banner",
   "metadata": {
    "scrolled": true
   },
   "outputs": [
    {
     "name": "stdout",
     "output_type": "stream",
     "text": [
      "part_1 1662\n"
     ]
    }
   ],
   "source": [
    "from typing import List\n",
    "\n",
    "\n",
    "def id_trees(data: list) -> List[list]:\n",
    "    trees = []\n",
    "    tree_id = 0\n",
    "    for row in data:\n",
    "        row_tree = []\n",
    "        for tree in row:\n",
    "            row_tree.append([tree_id, int(tree)])\n",
    "            tree_id += 1\n",
    "        trees.append(row_tree)\n",
    "    return trees\n",
    "\n",
    "\n",
    "def get_unique_trees(trees: List[list]) -> list:\n",
    "    unique_ids = [tree[0] for tree in trees]\n",
    "    return list(set(unique_ids))\n",
    "\n",
    "\n",
    "def max_height(trees: List[list]) -> int:\n",
    "    return max([tree[-1] for tree in trees])\n",
    "\n",
    "\n",
    "def visible_trees_slice(trees: List[list]) -> List[list]:\n",
    "    visible_trees = []\n",
    "    for idx, tree in enumerate(trees):\n",
    "        if idx == 0:\n",
    "            visible_trees.append(tree)\n",
    "            continue\n",
    "        tree_id, tree_height = tree\n",
    "        if tree_height > max_height(visible_trees):\n",
    "            visible_trees.append(tree)\n",
    "    return visible_trees\n",
    "\n",
    "\n",
    "def tree_row(trees: List[list], row: int, reverse=False) -> List[list]:\n",
    "    if reverse:\n",
    "        return list(reversed(trees[row]))\n",
    "    return trees[row]\n",
    "\n",
    "def tree_column(trees: List[list], column: int, reverse=False) -> List[list]:\n",
    "    if reverse:\n",
    "        trees = reversed(trees)\n",
    "    return [tree[column] for tree in trees]\n",
    "\n",
    "\n",
    "def visible_trees(trees: List[list], direction_func) -> List[list]:\n",
    "    all_visible = []\n",
    "    for idx, _ in enumerate(trees):\n",
    "        slice_ = direction_func(trees, idx)\n",
    "        visible = visible_trees_slice(slice_)\n",
    "        all_visible += visible\n",
    "        \n",
    "        slice_ = direction_func(trees, idx, True)\n",
    "        visible = visible_trees_slice(slice_)\n",
    "        all_visible += visible\n",
    "        \n",
    "    return all_visible\n",
    "\n",
    "\n",
    "with open(\"day_8_input.txt\", \"r\") as f:\n",
    "    raw_data = f.readlines()\n",
    "    data = [row.strip(\"\\n\") for row in raw_data]\n",
    "    \n",
    "\n",
    "trees = id_trees(data)\n",
    "\n",
    "\n",
    "visible = []\n",
    "for row, _ in enumerate(trees):\n",
    "    visible += visible_trees_slice(tree_row(trees, row))\n",
    "    visible += visible_trees_slice(tree_row(trees, row, True))\n",
    "    \n",
    "for column, _ in enumerate(trees[0]):\n",
    "    visible += visible_trees_slice(tree_column(trees, column))\n",
    "    visible += visible_trees_slice(tree_column(trees, column, True))\n",
    "    \n",
    "print(\"part_1\", len(get_unique_trees(visible)))"
   ]
  },
  {
   "cell_type": "code",
   "execution_count": 24,
   "id": "universal-employer",
   "metadata": {},
   "outputs": [],
   "source": [
    "data = \"\"\"30373\n",
    "25512\n",
    "65332\n",
    "33549\n",
    "35390\"\"\".split(\"\\n\")"
   ]
  },
  {
   "cell_type": "code",
   "execution_count": 44,
   "id": "hydraulic-breast",
   "metadata": {},
   "outputs": [],
   "source": [
    "def viewing_distance(current_tree, trees_ahead):\n",
    "    distance = 0\n",
    "    _, current_tree_height = current_tree\n",
    "    for tree_ahead in trees_ahead:\n",
    "        _, tree_ahead_height = tree_ahead\n",
    "        if tree_ahead_height >= current_tree_height:\n",
    "            distance += 1\n",
    "            break\n",
    "    return distance"
   ]
  },
  {
   "cell_type": "code",
   "execution_count": 51,
   "id": "offshore-medline",
   "metadata": {},
   "outputs": [
    {
     "data": {
      "text/plain": [
       "[[[0, 3], [1, 0], [2, 3], [3, 7], [4, 3]],\n",
       " [[5, 2], [6, 5], [7, 5], [8, 1], [9, 2]],\n",
       " [[10, 6], [11, 5], [12, 3], [13, 3], [14, 2]],\n",
       " [[15, 3], [16, 3], [17, 5], [18, 4], [19, 9]],\n",
       " [[20, 3], [21, 5], [22, 3], [23, 9], [24, 0]]]"
      ]
     },
     "execution_count": 51,
     "metadata": {},
     "output_type": "execute_result"
    }
   ],
   "source": [
    "trees = id_trees(data)\n",
    "trees"
   ]
  },
  {
   "cell_type": "code",
   "execution_count": 63,
   "id": "appropriate-pixel",
   "metadata": {},
   "outputs": [
    {
     "name": "stdout",
     "output_type": "stream",
     "text": [
      "[0, 3] [[1, 0], [2, 3], [3, 7], [4, 3]]\n",
      "[1, 0] [[2, 3], [3, 7], [4, 3]]\n",
      "[2, 3] [[3, 7], [4, 3]]\n",
      "[3, 7] [[4, 3]]\n",
      "[4, 3] []\n",
      "[5, 2] [[6, 5], [7, 5], [8, 1], [9, 2]]\n",
      "[6, 5] [[7, 5], [8, 1], [9, 2]]\n",
      "[7, 5] [[8, 1], [9, 2]]\n",
      "[8, 1] [[9, 2]]\n",
      "[9, 2] []\n",
      "[10, 6] [[11, 5], [12, 3], [13, 3], [14, 2]]\n",
      "[11, 5] [[12, 3], [13, 3], [14, 2]]\n",
      "[12, 3] [[13, 3], [14, 2]]\n",
      "[13, 3] [[14, 2]]\n",
      "[14, 2] []\n",
      "[15, 3] [[16, 3], [17, 5], [18, 4], [19, 9]]\n",
      "[16, 3] [[17, 5], [18, 4], [19, 9]]\n",
      "[17, 5] [[18, 4], [19, 9]]\n",
      "[18, 4] [[19, 9]]\n",
      "[19, 9] []\n",
      "[20, 3] [[21, 5], [22, 3], [23, 9], [24, 0]]\n",
      "[21, 5] [[22, 3], [23, 9], [24, 0]]\n",
      "[22, 3] [[23, 9], [24, 0]]\n",
      "[23, 9] [[24, 0]]\n",
      "[24, 0] []\n"
     ]
    }
   ],
   "source": [
    "for y in range(len(trees)):\n",
    "    for x in range(len(trees[0])):\n",
    "        tree = trees[y][x]\n",
    "        ahead = trees[y][x+1:]\n",
    "        behind = trees[y]"
   ]
  },
  {
   "cell_type": "code",
   "execution_count": null,
   "id": "shared-beatles",
   "metadata": {},
   "outputs": [],
   "source": []
  }
 ],
 "metadata": {
  "kernelspec": {
   "display_name": "Python 3",
   "language": "python",
   "name": "python3"
  },
  "language_info": {
   "codemirror_mode": {
    "name": "ipython",
    "version": 3
   },
   "file_extension": ".py",
   "mimetype": "text/x-python",
   "name": "python",
   "nbconvert_exporter": "python",
   "pygments_lexer": "ipython3",
   "version": "3.8.10"
  }
 },
 "nbformat": 4,
 "nbformat_minor": 5
}
