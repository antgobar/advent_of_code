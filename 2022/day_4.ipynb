{
 "cells": [
  {
   "cell_type": "code",
   "execution_count": 3,
   "id": "636dc397",
   "metadata": {},
   "outputs": [
    {
     "name": "stdout",
     "output_type": "stream",
     "text": [
      "433\n",
      "852\n"
     ]
    }
   ],
   "source": [
    "with open(\"day_4_input.txt\", \"r\") as f:\n",
    "    data = f.readlines()\n",
    "    \n",
    "data = [datum.strip(\"\\n\").split(\",\") for datum in data]\n",
    "\n",
    "part_1_count = 0\n",
    "part_2_count = 0\n",
    "\n",
    "for datum in data:\n",
    "    dnew = []\n",
    "    for d in datum:\n",
    "        a, b = d.split(\"-\")\n",
    "        dnew.append(set(range(int(a), int(b)+1)))\n",
    "    intersect = dnew[0].intersection(dnew[1])\n",
    "    if intersect == dnew[0] or intersect == dnew[1]:\n",
    "        part_1_count += 1\n",
    "    if len(dnew[0].intersection(dnew[1])) > 0:\n",
    "        part_2_count += 1\n",
    "\n",
    "print(part_1_count)\n",
    "print(part_2_count)"
   ]
  },
  {
   "cell_type": "code",
   "execution_count": null,
   "id": "d150ddc1",
   "metadata": {},
   "outputs": [],
   "source": []
  }
 ],
 "metadata": {
  "kernelspec": {
   "display_name": "Python 3 (ipykernel)",
   "language": "python",
   "name": "python3"
  },
  "language_info": {
   "codemirror_mode": {
    "name": "ipython",
    "version": 3
   },
   "file_extension": ".py",
   "mimetype": "text/x-python",
   "name": "python",
   "nbconvert_exporter": "python",
   "pygments_lexer": "ipython3",
   "version": "3.10.8"
  }
 },
 "nbformat": 4,
 "nbformat_minor": 5
}
