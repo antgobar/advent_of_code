{
 "cells": [
  {
   "cell_type": "code",
   "execution_count": 1,
   "metadata": {},
   "outputs": [],
   "source": [
    "with open(\"day_2_input.txt\", \"r\") as f:\n",
    "    data = f.read().splitlines()"
   ]
  },
  {
   "cell_type": "code",
   "execution_count": 2,
   "metadata": {},
   "outputs": [],
   "source": [
    "# data = \"\"\"Game 1: 3 blue, 4 red; 1 red, 2 green, 6 blue; 2 green\n",
    "# Game 2: 1 blue, 2 green; 3 green, 4 blue, 1 red; 1 green, 1 blue\n",
    "# Game 3: 8 green, 6 blue, 20 red; 5 blue, 4 red, 13 green; 5 green, 1 red\n",
    "# Game 4: 1 green, 3 red, 6 blue; 3 green, 6 red; 3 green, 15 blue, 14 red\n",
    "# Game 5: 6 red, 1 blue, 3 green; 2 blue, 1 red, 2 green\"\"\".splitlines()"
   ]
  },
  {
   "cell_type": "code",
   "execution_count": 3,
   "metadata": {},
   "outputs": [
    {
     "name": "stdout",
     "output_type": "stream",
     "text": [
      "2239\n"
     ]
    }
   ],
   "source": [
    "CUBES = {\n",
    "    \"red\": 12,\n",
    "    \"green\": 13,\n",
    "    \"blue\": 14\n",
    "}\n",
    "\n",
    "class TooManyCubes(Exception):\n",
    "    pass\n",
    "\n",
    "def parse_game_part_1(game):\n",
    "    game_name, game_data = game.split(\": \")\n",
    "    game_id = int(game_name.split(\" \")[-1])\n",
    "    sets = game_data.split(\"; \")\n",
    "    for set in sets:\n",
    "        grabs = set.split(\", \")\n",
    "        for grab in grabs:\n",
    "            number, colour = grab.split(\" \")\n",
    "            if int(number) > CUBES[colour]:\n",
    "                raise TooManyCubes\n",
    "    return game_id\n",
    "\n",
    "count = 0\n",
    "for game in data:\n",
    "    try:\n",
    "        count += parse_game_part_1(game)\n",
    "    except TooManyCubes:\n",
    "        continue\n",
    "\n",
    "print(count)"
   ]
  },
  {
   "cell_type": "code",
   "execution_count": 4,
   "metadata": {},
   "outputs": [
    {
     "name": "stdout",
     "output_type": "stream",
     "text": [
      "83435\n"
     ]
    }
   ],
   "source": [
    "import math\n",
    "\n",
    "\n",
    "def parse_game_part_2(game):\n",
    "    game_data = game.split(\": \")[-1]\n",
    "    max_colours = {}\n",
    "    sets = game_data.split(\"; \")\n",
    "    for set in sets:\n",
    "        grabs = set.split(\", \")\n",
    "        for grab in grabs:\n",
    "            number, colour = grab.split(\" \")\n",
    "            if colour not in max_colours:\n",
    "                max_colours[colour] = int(number)\n",
    "                continue\n",
    "            max_colours[colour] = max(max_colours[colour], int(number))\n",
    "    return math.prod(max_colours.values())\n",
    "\n",
    "count = 0\n",
    "for game in data:\n",
    "    count += parse_game_part_2(game)\n",
    "\n",
    "print(count)"
   ]
  }
 ],
 "metadata": {
  "kernelspec": {
   "display_name": "Python 3",
   "language": "python",
   "name": "python3"
  },
  "language_info": {
   "codemirror_mode": {
    "name": "ipython",
    "version": 3
   },
   "file_extension": ".py",
   "mimetype": "text/x-python",
   "name": "python",
   "nbconvert_exporter": "python",
   "pygments_lexer": "ipython3",
   "version": "3.11.6"
  }
 },
 "nbformat": 4,
 "nbformat_minor": 2
}
