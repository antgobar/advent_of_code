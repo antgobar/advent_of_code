{
 "cells": [
  {
   "cell_type": "code",
   "execution_count": 1,
   "metadata": {},
   "outputs": [],
   "source": [
    "with open('day_4_input.txt', 'r') as f:\n",
    "    data = f.read().splitlines()"
   ]
  },
  {
   "cell_type": "code",
   "execution_count": 2,
   "metadata": {},
   "outputs": [],
   "source": [
    "# data = \"\"\"\n",
    "# Card 1: 41 48 83 86 17 | 83 86  6 31 17  9 48 53\n",
    "# Card 2: 13 32 20 16 61 | 61 30 68 82 17 32 24 19\n",
    "# Card 3:  1 21 53 59 44 | 69 82 63 72 16 21 14  1\n",
    "# Card 4: 41 92 73 84 69 | 59 84 76 51 58  5 54 83\n",
    "# Card 5: 87 83 26 28 32 | 88 30 70 12 93 22 82 36\n",
    "# Card 6: 31 18 13 56 72 | 74 77 10 23 35 67 36 11\n",
    "# \"\"\".split('\\n')[1:-1]"
   ]
  },
  {
   "cell_type": "code",
   "execution_count": 3,
   "metadata": {},
   "outputs": [
    {
     "name": "stdout",
     "output_type": "stream",
     "text": [
      "25174\n"
     ]
    }
   ],
   "source": [
    "def parse_card(card):\n",
    "    card_name, numbers = card.split(':')\n",
    "    winning_raw, played_raw = numbers.split('|')\n",
    "    winning = [int(i) for i in winning_raw.split()]\n",
    "    played = [int(i) for i in played_raw.split()]\n",
    "    return card_name, len(set(winning).intersection(set(played)))\n",
    "\n",
    "\n",
    "score = 0\n",
    "\n",
    "for card in data:\n",
    "    _, winning_count = parse_card(card)\n",
    "    if winning_count:\n",
    "        score += 2 ** (winning_count - 1)\n",
    "\n",
    "print(score)"
   ]
  },
  {
   "cell_type": "code",
   "execution_count": 4,
   "metadata": {},
   "outputs": [
    {
     "name": "stdout",
     "output_type": "stream",
     "text": [
      "6420979\n"
     ]
    }
   ],
   "source": [
    "def get_card_id(card_name):\n",
    "    return int(card_name.split()[-1])\n",
    "\n",
    "\n",
    "def get_cards(card_id, count, data):\n",
    "    return data[card_id: card_id + count]\n",
    "\n",
    "\n",
    "for card in data:\n",
    "    card_name, winning_count = parse_card(card)\n",
    "    card_id = get_card_id(card_name)\n",
    "    cards = get_cards(card_id, winning_count, data)\n",
    "    data.extend(cards)\n",
    "\n",
    "\n",
    "print(len(data))"
   ]
  }
 ],
 "metadata": {
  "kernelspec": {
   "display_name": "Python 3",
   "language": "python",
   "name": "python3"
  },
  "language_info": {
   "codemirror_mode": {
    "name": "ipython",
    "version": 3
   },
   "file_extension": ".py",
   "mimetype": "text/x-python",
   "name": "python",
   "nbconvert_exporter": "python",
   "pygments_lexer": "ipython3",
   "version": "3.11.6"
  }
 },
 "nbformat": 4,
 "nbformat_minor": 2
}
