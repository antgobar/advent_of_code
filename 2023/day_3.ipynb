{
 "cells": [
  {
   "cell_type": "code",
   "execution_count": 238,
   "metadata": {},
   "outputs": [
    {
     "name": "stdout",
     "output_type": "stream",
     "text": [
      "556057\n"
     ]
    }
   ],
   "source": [
    "import re\n",
    "\n",
    "\n",
    "SYMBOLS = ['#', '$', '%', '&', '*', '+', '-', '/','=', '@']\n",
    "\n",
    "\n",
    "with open('day_3_input.txt', 'r') as f:\n",
    "    data = f.read().splitlines()\n",
    "\n",
    "\n",
    "def kernel_grid(data, start_x, end_x, start_y, end_y):\n",
    "    start_x, end_x, start_y, end_y = valid_kernel(data, start_x, end_x, start_y, end_y)\n",
    "    \n",
    "    nums = []\n",
    "    for row in data[start_y:end_y+1]:\n",
    "        nums += row[start_x:end_x+1]\n",
    "    return nums\n",
    "\n",
    "\n",
    "def valid_kernel(data, start_x, end_x, start_y, end_y):\n",
    "    if start_x < 0:\n",
    "        start_x = 0\n",
    "    if end_x > len(data[0]) - 1:\n",
    "        end_x = len(data[0]) - 1\n",
    "    if start_y < 0:\n",
    "        start_y = 0\n",
    "    if end_y > len(data) - 1:\n",
    "        end_y = len(data) -1 \n",
    "    return start_x, end_x, start_y, end_y\n",
    "\n",
    "\n",
    "count = 0\n",
    "for y, row in enumerate(data):\n",
    "    skip_chars = 0\n",
    "    for x, ch in enumerate(row):\n",
    "        if not ch.isnumeric() or skip_chars > 0:\n",
    "            skip_chars -= 1\n",
    "            continue\n",
    "        current_number = re.match(r'\\d+', row[x:]).group()\n",
    "        num_dim = len(current_number)\n",
    "        skip_chars = num_dim - 1\n",
    "        grid = kernel_grid(data, x-1, x+num_dim, y-1, y+1)\n",
    "        if set(SYMBOLS).intersection(set(grid)):\n",
    "            count += int(current_number)\n",
    "\n",
    "print(count)"
   ]
  },
  {
   "cell_type": "code",
   "execution_count": 239,
   "metadata": {},
   "outputs": [],
   "source": [
    "def get_left_number(row, x):\n",
    "    if x == 0:\n",
    "        return None\n",
    "    if not row[x-1].isnumeric():\n",
    "        return None\n",
    "    try:\n",
    "        return re.findall(r'\\d+', row[:x])[-1]\n",
    "    except IndexError:\n",
    "        return None\n",
    "\n",
    "\n",
    "def get_right_number(row, x):\n",
    "    if x > len(row) -2:\n",
    "        return None\n",
    "    if row[x+1].isnumeric():\n",
    "        try:\n",
    "            return re.findall(r'\\d+', row[x:])[0]\n",
    "        except IndexError:\n",
    "            return None\n",
    "    return None"
   ]
  },
  {
   "cell_type": "code",
   "execution_count": 240,
   "metadata": {},
   "outputs": [],
   "source": [
    "def get_left_right_numbers(row, x):\n",
    "    return get_left_number(row, x), get_right_number(row, x)"
   ]
  },
  {
   "cell_type": "code",
   "execution_count": 241,
   "metadata": {},
   "outputs": [],
   "source": [
    "def get_number(row, x):\n",
    "    if not row[x].isnumeric():\n",
    "        return get_left_right_numbers(row, x)\n",
    "    if row[x-1].isnumeric():\n",
    "        return None, get_right_number(row, x+1)\n",
    "    if row[x+1].isnumeric():\n",
    "        return get_left_number(row, x-1), None\n",
    "    "
   ]
  },
  {
   "cell_type": "code",
   "execution_count": 242,
   "metadata": {},
   "outputs": [
    {
     "data": {
      "text/plain": [
       "['467..114..',\n",
       " '...*......',\n",
       " '..35..633.',\n",
       " '......#...',\n",
       " '617*......',\n",
       " '.....+.58.',\n",
       " '..592.....',\n",
       " '......755.',\n",
       " '...$.*....',\n",
       " '.664.598..']"
      ]
     },
     "execution_count": 242,
     "metadata": {},
     "output_type": "execute_result"
    }
   ],
   "source": [
    "data = \"\"\"\n",
    "467..114..\n",
    "...*......\n",
    "..35..633.\n",
    "......#...\n",
    "617*......\n",
    ".....+.58.\n",
    "..592.....\n",
    "......755.\n",
    "...$.*....\n",
    ".664.598..\n",
    "\"\"\".split(\"\\n\")[1:-1]\n",
    "\n",
    "data"
   ]
  },
  {
   "cell_type": "code",
   "execution_count": 243,
   "metadata": {},
   "outputs": [],
   "source": [
    "def get_top_numbers(data, x, y):\n",
    "    if y == 0:\n",
    "        return None, None\n",
    "    top_row = data[y-1]\n",
    "    return get_left_number(top_row, x), get_right_number(top_row, x)\n",
    "\n",
    "def get_bottom_numbers(data, x, y):\n",
    "    if y > len(data) - 2:\n",
    "        return None, None\n",
    "    bottom_row = data[y+1]\n",
    "    if not bottom_row[x].isnumeric():\n",
    "        return get_left_number(bottom_row, x), get_right_number(bottom_row, x)\n",
    "    \n",
    "    if x <=0:\n",
    "        return None, re.findall(r'\\d+', row[x:])[0]\n",
    "    if x > len(bottom_row) -2:\n",
    "        return re.findall(r'\\d+', row[:x])[-1]\n",
    "    if bottom_row[x-1].isnumeric():\n",
    "        return None, get_right_number(bottom_row, x+1)\n",
    "    if bottom_row[x+1].isnumeric():\n",
    "        return get_left_number(bottom_row, x-1), None"
   ]
  },
  {
   "cell_type": "code",
   "execution_count": 244,
   "metadata": {},
   "outputs": [
    {
     "name": "stdout",
     "output_type": "stream",
     "text": [
      "(None, '78')\n",
      "(None, None)\n",
      "None\n",
      "(None, None)\n"
     ]
    }
   ],
   "source": [
    "data = \"\"\"\n",
    ".12.34\n",
    "*45..3\n",
    ".78..2\n",
    "9*1...\n",
    "23..123\n",
    "56*.32\n",
    "1.3.3\n",
    ".*\n",
    "\"\"\".split(\"\\n\")[1:-1]\n",
    "\n",
    "for y, row in enumerate(data):\n",
    "    for x, ch in enumerate(row):\n",
    "        if ch != \"*\":\n",
    "            continue\n",
    "        left_number = get_left_number(row, x)\n",
    "        right_number = get_right_number(row, x)\n",
    "        top_numbers = get_top_numbers(data, x, y)\n",
    "        bottom_numbers = get_bottom_numbers(data, x, y)\n",
    "        print(bottom_numbers)\n"
   ]
  },
  {
   "cell_type": "code",
   "execution_count": null,
   "metadata": {},
   "outputs": [],
   "source": []
  }
 ],
 "metadata": {
  "kernelspec": {
   "display_name": "Python 3",
   "language": "python",
   "name": "python3"
  },
  "language_info": {
   "codemirror_mode": {
    "name": "ipython",
    "version": 3
   },
   "file_extension": ".py",
   "mimetype": "text/x-python",
   "name": "python",
   "nbconvert_exporter": "python",
   "pygments_lexer": "ipython3",
   "version": "3.11.6"
  }
 },
 "nbformat": 4,
 "nbformat_minor": 2
}
