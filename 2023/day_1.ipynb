{
 "cells": [
  {
   "cell_type": "code",
   "execution_count": 1,
   "metadata": {},
   "outputs": [],
   "source": [
    "with open(\"day_1_input.txt\", \"r\") as f:\n",
    "    data = f.read().splitlines()"
   ]
  },
  {
   "cell_type": "code",
   "execution_count": 2,
   "metadata": {},
   "outputs": [
    {
     "name": "stdout",
     "output_type": "stream",
     "text": [
      "55834\n",
      "53221\n"
     ]
    }
   ],
   "source": [
    "import re\n",
    "\n",
    "CONVERSIONS = {\n",
    "    \"one\": 1,\n",
    "    \"two\": 2,\n",
    "    \"three\": 3,\n",
    "    \"four\": 4,\n",
    "    \"five\": 5,\n",
    "    \"six\": 6,\n",
    "    \"seven\": 7,\n",
    "    \"eight\": 8,\n",
    "    \"nine\": 9\n",
    "}\n",
    "\n",
    "REVERSED = {k[::-1]: v for k, v in CONVERSIONS.items()}\n",
    "\n",
    "def int_conversion(instr, mapping):\n",
    "    try:\n",
    "        return int(instr)\n",
    "    except ValueError:\n",
    "        return mapping[instr]\n",
    "\n",
    "\n",
    "def extract_digits(string, pattern, reversed_pattern=None):\n",
    "    string = string.lower().strip()\n",
    "    first = re.findall(pattern, string)[0]\n",
    "    if reversed_pattern is None:\n",
    "        last = re.findall(pattern, string)[-1]\n",
    "    else:\n",
    "        last = re.findall(reversed_pattern, string[::-1])[0]\n",
    "    \n",
    "    first_int = int_conversion(first, CONVERSIONS)\n",
    "    last_int = int_conversion(last, REVERSED)\n",
    "\n",
    "    return int(f\"{first_int}{last_int}\")\n",
    "\n",
    "\n",
    "pattern_1 = r'\\d'\n",
    "nums_1 = [extract_digits(i, pattern_1) for i in data]\n",
    "print(sum(nums_1))\n",
    "# 55834 :)\n",
    "\n",
    "pattern_2 = r'\\d' + \"|\" + \"|\".join(CONVERSIONS.keys())\n",
    "reversed_pattern = r'\\d' + \"|\" + \"|\".join(REVERSED.keys())\n",
    "nums_2 = [extract_digits(i, pattern_2, reversed_pattern) for i in data]\n",
    "print(sum(nums_2))\n",
    "# 53221 :)"
   ]
  },
  {
   "cell_type": "code",
   "execution_count": null,
   "metadata": {},
   "outputs": [],
   "source": []
  }
 ],
 "metadata": {
  "kernelspec": {
   "display_name": "Python 3",
   "language": "python",
   "name": "python3"
  },
  "language_info": {
   "codemirror_mode": {
    "name": "ipython",
    "version": 3
   },
   "file_extension": ".py",
   "mimetype": "text/x-python",
   "name": "python",
   "nbconvert_exporter": "python",
   "pygments_lexer": "ipython3",
   "version": "3.11.6"
  }
 },
 "nbformat": 4,
 "nbformat_minor": 2
}
