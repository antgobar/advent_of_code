{
 "cells": [
  {
   "cell_type": "code",
   "execution_count": 24,
   "id": "departmental-berlin",
   "metadata": {},
   "outputs": [
    {
     "data": {
      "text/plain": [
       "['zgsnvdmlfuplrubt\\n',\n",
       " 'vlhagaovgqjmgvwq\\n',\n",
       " 'ffumlmqwfcsyqpss\\n',\n",
       " 'zztdcqzqddaazdjp\\n',\n",
       " 'eavfzjajkjesnlsb\\n',\n",
       " 'urrvucyrzzzooxhx\\n',\n",
       " 'xdwduffwgcptfwad\\n',\n",
       " 'orbryxwrmvkrsxsr\\n',\n",
       " 'jzfeybjlgqikjcow\\n',\n",
       " 'mayoqiswqqryvqdi\\n']"
      ]
     },
     "execution_count": 24,
     "metadata": {},
     "output_type": "execute_result"
    }
   ],
   "source": [
    "with open(\"day_5_input.txt\", \"r\") as f:\n",
    "    data = f.readlines()\n",
    "data[:10]"
   ]
  },
  {
   "cell_type": "code",
   "execution_count": 29,
   "id": "verified-roulette",
   "metadata": {},
   "outputs": [
    {
     "data": {
      "text/plain": [
       "['zgsnvdmlfuplrubt',\n",
       " 'vlhagaovgqjmgvwq',\n",
       " 'ffumlmqwfcsyqpss',\n",
       " 'zztdcqzqddaazdjp',\n",
       " 'eavfzjajkjesnlsb',\n",
       " 'urrvucyrzzzooxhx',\n",
       " 'xdwduffwgcptfwad',\n",
       " 'orbryxwrmvkrsxsr',\n",
       " 'jzfeybjlgqikjcow',\n",
       " 'mayoqiswqqryvqdi']"
      ]
     },
     "execution_count": 29,
     "metadata": {},
     "output_type": "execute_result"
    }
   ],
   "source": [
    "strings = [d.strip(\"\\n\") for d in data]\n",
    "strings[:10]"
   ]
  },
  {
   "cell_type": "code",
   "execution_count": 30,
   "id": "colonial-aircraft",
   "metadata": {},
   "outputs": [],
   "source": [
    "class HasString:\n",
    "    def __init__(self, string):\n",
    "        self.string = string\n",
    "    \n",
    "    def has(self, chars, match=0):\n",
    "        return len(set(self.string).intersection(chars)) >= match\n",
    "    \n",
    "    def hasmany(self, *chars, match=0):\n",
    "        return all([self.has(char, match) for char in chars])\n",
    "    \n",
    "    def has_adj_dup(self):\n",
    "        prev = \"\"\n",
    "        for s in self.string:\n",
    "            if s == prev:\n",
    "                return True\n",
    "            s = prev\n",
    "        return False"
   ]
  },
  {
   "cell_type": "code",
   "execution_count": 31,
   "id": "violent-craft",
   "metadata": {},
   "outputs": [
    {
     "data": {
      "text/plain": [
       "0"
      ]
     },
     "execution_count": 31,
     "metadata": {},
     "output_type": "execute_result"
    }
   ],
   "source": [
    "nices = 0\n",
    "for string in strings:\n",
    "    s = HasString(string)            \n",
    "    if s.has(\"aeiou\", 3) and not s.hasmany(\"ab\", \"cd\", \"pq\", \"xy\") and s.has_adjacent_dup():\n",
    "        nices += 1\n",
    "\n",
    "nices"
   ]
  },
  {
   "cell_type": "code",
   "execution_count": 35,
   "id": "spatial-implement",
   "metadata": {},
   "outputs": [
    {
     "data": {
      "text/plain": [
       "False"
      ]
     },
     "execution_count": 35,
     "metadata": {},
     "output_type": "execute_result"
    }
   ],
   "source": [
    "a = HasString(\"anton ggoetzee\")\n",
    "a.has(\"aeiou\", 6)"
   ]
  },
  {
   "cell_type": "code",
   "execution_count": null,
   "id": "detailed-series",
   "metadata": {},
   "outputs": [],
   "source": []
  }
 ],
 "metadata": {
  "kernelspec": {
   "display_name": "Python 3",
   "language": "python",
   "name": "python3"
  },
  "language_info": {
   "codemirror_mode": {
    "name": "ipython",
    "version": 3
   },
   "file_extension": ".py",
   "mimetype": "text/x-python",
   "name": "python",
   "nbconvert_exporter": "python",
   "pygments_lexer": "ipython3",
   "version": "3.8.10"
  }
 },
 "nbformat": 4,
 "nbformat_minor": 5
}
