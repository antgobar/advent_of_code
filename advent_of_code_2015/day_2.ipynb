{
 "cells": [
  {
   "cell_type": "code",
   "execution_count": 13,
   "id": "healthy-polish",
   "metadata": {},
   "outputs": [],
   "source": [
    "with open(\"day_2_input.txt\", \"r\") as f:\n",
    "    data = f.readlines()"
   ]
  },
  {
   "cell_type": "code",
   "execution_count": 14,
   "id": "dependent-exclusion",
   "metadata": {},
   "outputs": [],
   "source": [
    "presents_dimensions = [[int(d) for d in datum.strip(\"n\").split(\"x\")] for datum in data]"
   ]
  },
  {
   "cell_type": "code",
   "execution_count": 21,
   "id": "vanilla-torture",
   "metadata": {},
   "outputs": [
    {
     "data": {
      "text/plain": [
       "(1606483, 3842356)"
      ]
     },
     "execution_count": 21,
     "metadata": {},
     "output_type": "execute_result"
    }
   ],
   "source": [
    "total_wrapping_area = 0\n",
    "total_ribbon_length = 0\n",
    "for dimensions in presents_dimensions:\n",
    "    l, w, h = dimensions\n",
    "    min_1, min_2 = sorted(dimensions)[:2]\n",
    "    \n",
    "    wrapping_area = 2*l*w + 2*w*h + 2*h*l + min_1*min_2\n",
    "    total_wrapping_area += wrapping_area\n",
    "    \n",
    "    ribbon = l*w*h + 2*min_1 + 2*min_2\n",
    "    total_ribbon_length += ribbon \n",
    "    \n",
    "    \n",
    "total_wrapping_area, total_ribbon_length"
   ]
  }
 ],
 "metadata": {
  "kernelspec": {
   "display_name": "Python 3",
   "language": "python",
   "name": "python3"
  },
  "language_info": {
   "codemirror_mode": {
    "name": "ipython",
    "version": 3
   },
   "file_extension": ".py",
   "mimetype": "text/x-python",
   "name": "python",
   "nbconvert_exporter": "python",
   "pygments_lexer": "ipython3",
   "version": "3.8.10"
  }
 },
 "nbformat": 4,
 "nbformat_minor": 5
}
