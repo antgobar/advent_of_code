{
 "cells": [
  {
   "cell_type": "code",
   "execution_count": 4,
   "id": "incorporated-crawford",
   "metadata": {
    "scrolled": true
   },
   "outputs": [
    {
     "name": "stdout",
     "output_type": "stream",
     "text": [
      "2565\n",
      "2639\n"
     ]
    }
   ],
   "source": [
    "with open(\"day_3_input.txt\", \"r\") as f:\n",
    "    instructions = f.readlines()[0]\n",
    "    \n",
    "\n",
    "locations = [(0, 0)]\n",
    "location_map = {\"^\": (1, 0), \"v\": (-1, 0), \">\": (0, 1), \"<\": (0, -1)}\n",
    "x, y = 0, 0\n",
    "for instruction in instructions:\n",
    "    move_x, move_y = location_map[instruction]\n",
    "    x += move_x\n",
    "    y += move_y\n",
    "    new_location = (x, y)\n",
    "    \n",
    "    if new_location not in locations:\n",
    "        locations.append(new_location)\n",
    "\n",
    "\n",
    "print(len(locations))\n",
    "\n",
    "\n",
    "locations = [(0, 0)]\n",
    "x_santa, y_santa = 0, 0\n",
    "x_robot, y_robot = 0, 0\n",
    "turn = \"santa\"\n",
    "for instruction in instructions:\n",
    "    move_x, move_y = location_map[instruction]\n",
    "    \n",
    "    if turn == \"santa\":\n",
    "        x_santa += move_x\n",
    "        y_santa += move_y\n",
    "        santa_location = (x_santa, y_santa)\n",
    "        if santa_location not in locations:\n",
    "            locations.append(santa_location)\n",
    "        turn = \"robot\"\n",
    "        continue\n",
    "        \n",
    "    if turn == \"robot\":\n",
    "        x_robot += move_x\n",
    "        y_robot += move_y\n",
    "        santa_location = (x_robot, y_robot)\n",
    "        if santa_location not in locations:\n",
    "            locations.append(santa_location)\n",
    "        turn = \"santa\"\n",
    "        continue\n",
    "\n",
    "\n",
    "print(len(locations))"
   ]
  },
  {
   "cell_type": "code",
   "execution_count": null,
   "id": "becoming-belgium",
   "metadata": {},
   "outputs": [],
   "source": []
  }
 ],
 "metadata": {
  "kernelspec": {
   "display_name": "Python 3",
   "language": "python",
   "name": "python3"
  },
  "language_info": {
   "codemirror_mode": {
    "name": "ipython",
    "version": 3
   },
   "file_extension": ".py",
   "mimetype": "text/x-python",
   "name": "python",
   "nbconvert_exporter": "python",
   "pygments_lexer": "ipython3",
   "version": "3.8.10"
  }
 },
 "nbformat": 4,
 "nbformat_minor": 5
}
