{
 "cells": [
  {
   "cell_type": "code",
   "execution_count": 1,
   "id": "6af0eaad",
   "metadata": {},
   "outputs": [
    {
     "name": "stdout",
     "output_type": "stream",
     "text": [
      "part 1 WCZTHTMPS\n",
      "part_2 BLSGJSDTS\n"
     ]
    }
   ],
   "source": [
    "import re\n",
    "\n",
    "with open(\"day_5_input.txt\", \"r\") as f:\n",
    "    data = f.readlines()\n",
    "\n",
    "def get_instructions(data):\n",
    "    return [tuple(int(num) for num in re.findall(r\"\\d+\", line.strip(\"\\n\"))) for line in data[10:]]\n",
    "\n",
    "def get_crate_config(data):\n",
    "    start_config_raw = [line.strip(\"\\n\") for line in data[:9]]\n",
    "\n",
    "    start_config = []\n",
    "    for line_no, _ in enumerate(start_config_raw[0]):\n",
    "        start_config_line = []\n",
    "        for line in reversed(start_config_raw):\n",
    "            char = line[line_no]\n",
    "            if char != \" \":\n",
    "                start_config_line.append(char)\n",
    "        try:\n",
    "            int(start_config_line[0])\n",
    "        except:\n",
    "            continue\n",
    "        start_config.append(start_config_line)\n",
    "    \n",
    "    return start_config\n",
    "\n",
    "instructions = get_instructions(data)\n",
    "crate_config_1 = get_crate_config(data)\n",
    "crate_config_2 = get_crate_config(data)\n",
    "\n",
    "for instruction in instructions:\n",
    "    quantity, from_position, to_position = instruction\n",
    "    \n",
    "    crates_1 = crate_config_1[from_position - 1][-quantity:]\n",
    "    crate_config_1[from_position - 1] = crate_config_1[from_position - 1][:-quantity]\n",
    "    crate_config_1[to_position - 1] += reversed(crates_1)\n",
    "    \n",
    "    crates_2 = crate_config_2[from_position - 1][-quantity:]\n",
    "    crate_config_2[from_position - 1] = crate_config_2[from_position - 1][:-quantity]\n",
    "    crate_config_2[to_position - 1] += crates_2\n",
    "    \n",
    "print(\"part 1\", \"\".join([line[-1] for line in crate_config_1]))\n",
    "print(\"part_2\", \"\".join([line[-1] for line in crate_config_2]))"
   ]
  }
 ],
 "metadata": {
  "kernelspec": {
   "display_name": "Python 3 (ipykernel)",
   "language": "python",
   "name": "python3"
  },
  "language_info": {
   "codemirror_mode": {
    "name": "ipython",
    "version": 3
   },
   "file_extension": ".py",
   "mimetype": "text/x-python",
   "name": "python",
   "nbconvert_exporter": "python",
   "pygments_lexer": "ipython3",
   "version": "3.10.8"
  }
 },
 "nbformat": 4,
 "nbformat_minor": 5
}
