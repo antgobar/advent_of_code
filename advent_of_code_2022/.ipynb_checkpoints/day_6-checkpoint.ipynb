{
 "cells": [
  {
   "cell_type": "code",
   "execution_count": 42,
   "id": "9c1ee587",
   "metadata": {},
   "outputs": [
    {
     "name": "stdout",
     "output_type": "stream",
     "text": [
      "1100\n",
      "2421\n"
     ]
    }
   ],
   "source": [
    "with open(\"day_6_input.txt\", \"r\") as f:\n",
    "    chars = f.read().strip(\"\\n\")\n",
    "\n",
    "def get_start_position(chars, len_packet):\n",
    "    for position in range(len_packet, len(chars)):\n",
    "        if len(set(chars[position - len_packet: position])) == len_packet:\n",
    "            return position\n",
    "\n",
    "part_1 = get_start_position(chars, 4)\n",
    "part_2 = get_start_position(chars, 14)\n",
    "\n",
    "print(part_1)\n",
    "print(part_2)"
   ]
  }
 ],
 "metadata": {
  "kernelspec": {
   "display_name": "Python 3 (ipykernel)",
   "language": "python",
   "name": "python3"
  },
  "language_info": {
   "codemirror_mode": {
    "name": "ipython",
    "version": 3
   },
   "file_extension": ".py",
   "mimetype": "text/x-python",
   "name": "python",
   "nbconvert_exporter": "python",
   "pygments_lexer": "ipython3",
   "version": "3.10.8"
  }
 },
 "nbformat": 4,
 "nbformat_minor": 5
}
