{
 "cells": [
  {
   "cell_type": "code",
   "execution_count": 31,
   "id": "close-stability",
   "metadata": {},
   "outputs": [],
   "source": [
    "with open(\"input.txt\", \"r\") as f:\n",
    "    data = f.read()"
   ]
  },
  {
   "cell_type": "code",
   "execution_count": 33,
   "id": "sexual-education",
   "metadata": {},
   "outputs": [],
   "source": [
    "def parse_cals(calories_str):\n",
    "    grouped_cals_str = calories_str.split(\"\\n\\n\")\n",
    "    grouped_cals_lstr = [cals.split(\"\\n\") for cals in grouped_cals_str]\n",
    "    return [[int(cal) for cal in cals] for cals in grouped_cals_lstr]\n",
    "\n",
    "def sum_cals(parsed_cals):\n",
    "    return [sum(group) for group in parsed_cals]\n",
    "\n",
    "def max_cals(summed_cals, n):\n",
    "    return sorted(sum_cals)[:n]\n",
    "\n",
    "def get_max_cals(calories_str, n):\n",
    "    parsed_cals = parse_cals(calories_str)\n",
    "    summed_cals = sum_cals(parsed_cals)\n",
    "    return sum(sorted(summed_cals, reverse=True)[:n])\n",
    "\n",
    "part_1 = get_max_cals(data, 1)\n",
    "part_2 = get_max_cals(data, 3)"
   ]
  },
  {
   "cell_type": "code",
   "execution_count": 34,
   "id": "essential-arbitration",
   "metadata": {},
   "outputs": [
    {
     "name": "stdout",
     "output_type": "stream",
     "text": [
      "69177\n",
      "207456\n"
     ]
    }
   ],
   "source": [
    "print(part_1)\n",
    "print(part_2)"
   ]
  }
 ],
 "metadata": {
  "kernelspec": {
   "display_name": "Python 3",
   "language": "python",
   "name": "python3"
  },
  "language_info": {
   "codemirror_mode": {
    "name": "ipython",
    "version": 3
   },
   "file_extension": ".py",
   "mimetype": "text/x-python",
   "name": "python",
   "nbconvert_exporter": "python",
   "pygments_lexer": "ipython3",
   "version": "3.8.10"
  }
 },
 "nbformat": 4,
 "nbformat_minor": 5
}
