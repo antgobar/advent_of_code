{
 "cells": [
  {
   "cell_type": "code",
   "execution_count": 2,
   "id": "satellite-wrong",
   "metadata": {},
   "outputs": [],
   "source": [
    "from typing import List"
   ]
  },
  {
   "cell_type": "code",
   "execution_count": 3,
   "id": "universal-employer",
   "metadata": {},
   "outputs": [],
   "source": [
    "with open(\"day_8_input.txt\", \"r\") as f:\n",
    "    raw_data = f.readlines()\n",
    "    data = [row.strip(\"\\n\") for row in raw_data]"
   ]
  },
  {
   "cell_type": "code",
   "execution_count": 4,
   "id": "ruled-reset",
   "metadata": {},
   "outputs": [],
   "source": [
    "data = \"\"\"30373\n",
    "25512\n",
    "65332\n",
    "33549\n",
    "35390\"\"\".split(\"\\n\")"
   ]
  },
  {
   "cell_type": "code",
   "execution_count": 5,
   "id": "unsigned-banner",
   "metadata": {
    "scrolled": true
   },
   "outputs": [],
   "source": [
    "def id_trees(data):\n",
    "    trees = []\n",
    "    tree_id = 0\n",
    "    for row in data:\n",
    "        row_tree = []\n",
    "        for tree in row:\n",
    "            row_tree.append({tree_id: int(tree)})\n",
    "            tree_id += 1\n",
    "        trees.append(row_tree)\n",
    "    return trees"
   ]
  },
  {
   "cell_type": "code",
   "execution_count": 6,
   "id": "apparent-liver",
   "metadata": {},
   "outputs": [],
   "source": [
    "def get_unique_trees(trees: List[dict]) -> list:\n",
    "    unique_ids = [list(tree.keys())[0] for tree in trees]\n",
    "    return list(set(unique_ids))"
   ]
  },
  {
   "cell_type": "code",
   "execution_count": 7,
   "id": "southeast-agreement",
   "metadata": {},
   "outputs": [],
   "source": [
    "def max_height(trees: List[dict]) -> int:\n",
    "    return sum([sum(tree.values()) for tree in trees])"
   ]
  },
  {
   "cell_type": "code",
   "execution_count": 14,
   "id": "designed-candle",
   "metadata": {},
   "outputs": [],
   "source": [
    "def visible_trees_slice(trees: List[dict]) -> List[dict]:\n",
    "    visible_trees = []\n",
    "    for idx, tree in enumerate(trees):\n",
    "        if idx == 0:\n",
    "            visible_trees.append(tree)\n",
    "            continue\n",
    "        tree_id, tree_height = list(tree.items())[0]\n",
    "        current_max = max_height(visible_trees)\n",
    "        if tree_height > current_max:\n",
    "            visible_trees.append(tree)\n",
    "    return visible_trees"
   ]
  },
  {
   "cell_type": "code",
   "execution_count": 15,
   "id": "electrical-purchase",
   "metadata": {},
   "outputs": [],
   "source": [
    "def tree_row(trees, row, reverse=False):\n",
    "    if reverse:\n",
    "        return list(reversed(trees[row]))\n",
    "    return trees[row]\n",
    "\n",
    "def tree_column(trees, column, reverse=False):\n",
    "    if reverse:\n",
    "        trees = reversed(trees)\n",
    "    return [tree[column] for tree in trees]"
   ]
  },
  {
   "cell_type": "code",
   "execution_count": 16,
   "id": "suffering-rugby",
   "metadata": {},
   "outputs": [],
   "source": [
    "def visible_trees(trees: List[dict], direction_func) -> List[dict]:\n",
    "    all_visible = []\n",
    "    for idx, _ in enumerate(trees):\n",
    "        slice_ = direction_func(trees, idx)\n",
    "        visible = visible_trees_slice(slice_)\n",
    "        all_visible += visible\n",
    "        \n",
    "        slice_ = direction_func(trees, idx, True)\n",
    "        visible = visible_trees_slice(slice_)\n",
    "        all_visible += visible\n",
    "        \n",
    "    return all_visible"
   ]
  },
  {
   "cell_type": "code",
   "execution_count": 17,
   "id": "alpha-valley",
   "metadata": {},
   "outputs": [
    {
     "data": {
      "text/plain": [
       "[[{0: 3}, {1: 0}, {2: 3}, {3: 7}, {4: 3}],\n",
       " [{5: 2}, {6: 5}, {7: 5}, {8: 1}, {9: 2}],\n",
       " [{10: 6}, {11: 5}, {12: 3}, {13: 3}, {14: 2}],\n",
       " [{15: 3}, {16: 3}, {17: 5}, {18: 4}, {19: 9}],\n",
       " [{20: 3}, {21: 5}, {22: 3}, {23: 9}, {24: 0}]]"
      ]
     },
     "execution_count": 17,
     "metadata": {},
     "output_type": "execute_result"
    }
   ],
   "source": [
    "trees = id_trees(data)\n",
    "trees"
   ]
  },
  {
   "cell_type": "code",
   "execution_count": 24,
   "id": "developing-judges",
   "metadata": {},
   "outputs": [],
   "source": [
    "visible = []\n",
    "for row, _ in enumerate(trees):\n",
    "#     visible += visible_trees_slice(tree_row(trees, row))\n",
    "    visible += visible_trees_slice(tree_row(trees, row, True))\n",
    "    \n",
    "# for column, _ in enumerate(trees[0]):\n",
    "#     visible += visible_trees_slice(tree_column(trees, column))\n",
    "#     visible += visible_trees_slice(tree_column(trees, column, True))"
   ]
  },
  {
   "cell_type": "code",
   "execution_count": 33,
   "id": "transsexual-probe",
   "metadata": {},
   "outputs": [
    {
     "name": "stdout",
     "output_type": "stream",
     "text": [
      "[{14: 2}, {13: 3}, {12: 3}, {11: 5}, {10: 6}]\n",
      "[{14: 2}, {13: 3}, {10: 6}]\n"
     ]
    }
   ],
   "source": [
    "row = tree_row(trees, 2, True)\n",
    "visible = visible_trees_slice(row)\n",
    "print(row)\n",
    "print(visible)"
   ]
  },
  {
   "cell_type": "code",
   "execution_count": 34,
   "id": "lightweight-opening",
   "metadata": {},
   "outputs": [
    {
     "data": {
      "text/plain": [
       "20"
      ]
     },
     "execution_count": 34,
     "metadata": {},
     "output_type": "execute_result"
    }
   ],
   "source": [
    "len(get_unique_trees(visible))"
   ]
  },
  {
   "cell_type": "code",
   "execution_count": null,
   "id": "appointed-connection",
   "metadata": {},
   "outputs": [],
   "source": []
  }
 ],
 "metadata": {
  "kernelspec": {
   "display_name": "Python 3",
   "language": "python",
   "name": "python3"
  },
  "language_info": {
   "codemirror_mode": {
    "name": "ipython",
    "version": 3
   },
   "file_extension": ".py",
   "mimetype": "text/x-python",
   "name": "python",
   "nbconvert_exporter": "python",
   "pygments_lexer": "ipython3",
   "version": "3.8.10"
  }
 },
 "nbformat": 4,
 "nbformat_minor": 5
}
