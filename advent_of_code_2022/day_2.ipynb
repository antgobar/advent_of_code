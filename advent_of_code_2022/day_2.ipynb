{
 "cells": [
  {
   "cell_type": "code",
   "execution_count": 1,
   "id": "functional-maintenance",
   "metadata": {},
   "outputs": [
    {
     "name": "stdout",
     "output_type": "stream",
     "text": [
      "13924\n",
      "13448\n"
     ]
    }
   ],
   "source": [
    "with open(\"day_2_input.txt\", \"r\") as f:\n",
    "    data = f.read()\n",
    "\n",
    "shape_score_map = {\"X\": 1, \"Y\": 2, \"Z\": 3}\n",
    "\n",
    "outcome_score_map = {\n",
    "    \"A X\": 3, \"A Y\": 6, \"A Z\": 0,\n",
    "    \"B X\": 0, \"B Y\": 3, \"B Z\": 6,\n",
    "    \"C X\": 6, \"C Y\": 0, \"C Z\": 3,\n",
    "}\n",
    "# X lose Y draw Z win\n",
    "should_play_map = {\n",
    "    \"A X\": \"A Z\", \"A Y\": \"A X\", \"A Z\": \"A Y\",\n",
    "    \"B X\": \"B X\", \"B Y\": \"B Y\", \"B Z\": \"B Z\",\n",
    "    \"C X\": \"C Y\", \"C Y\": \"C Z\", \"C Z\": \"C X\",\n",
    "}\n",
    "\n",
    "# plays = [\"A Y\", \"B X\", \"C Z\"] # test\n",
    "plays = data.split(\"\\n\")\n",
    "\n",
    "total_score_part_1 = 0\n",
    "total_score_part_2 = 0\n",
    "\n",
    "for play in plays:\n",
    "    other, _, me = play\n",
    "    outcome_score_1 = outcome_score_map[\"\".join(play)]\n",
    "    total_score_part_1 += shape_score_map[me] + outcome_score_1\n",
    "    \n",
    "    play_2 = should_play_map[play]\n",
    "    other, _, me = play_2\n",
    "    shape_score_2 = shape_score_map[me]\n",
    "    outcome_score_2 = outcome_score_map[play_2]\n",
    "    total_score_part_2 += shape_score_2 + outcome_score_2\n",
    "    \n",
    "    \n",
    "print(total_score_part_1)\n",
    "print(total_score_part_2)"
   ]
  }
 ],
 "metadata": {
  "kernelspec": {
   "display_name": "Python 3",
   "language": "python",
   "name": "python3"
  },
  "language_info": {
   "codemirror_mode": {
    "name": "ipython",
    "version": 3
   },
   "file_extension": ".py",
   "mimetype": "text/x-python",
   "name": "python",
   "nbconvert_exporter": "python",
   "pygments_lexer": "ipython3",
   "version": "3.8.10"
  }
 },
 "nbformat": 4,
 "nbformat_minor": 5
}
