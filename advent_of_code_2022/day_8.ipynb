{
 "cells": [
  {
   "cell_type": "code",
   "execution_count": 1,
   "id": "unsigned-banner",
   "metadata": {
    "scrolled": true
   },
   "outputs": [
    {
     "name": "stdout",
     "output_type": "stream",
     "text": [
      "part_1 1662\n"
     ]
    }
   ],
   "source": [
    "from typing import List\n",
    "\n",
    "\n",
    "def id_trees(data):\n",
    "    trees = []\n",
    "    tree_id = 0\n",
    "    for row in data:\n",
    "        row_tree = []\n",
    "        for tree in row:\n",
    "            row_tree.append({tree_id: int(tree)})\n",
    "            tree_id += 1\n",
    "        trees.append(row_tree)\n",
    "    return trees\n",
    "\n",
    "\n",
    "def get_unique_trees(trees: List[dict]) -> list:\n",
    "    unique_ids = [list(tree.keys())[0] for tree in trees]\n",
    "    return list(set(unique_ids))\n",
    "\n",
    "\n",
    "def max_height(trees: List[dict]) -> int:\n",
    "    return max([sum(tree.values()) for tree in trees])\n",
    "\n",
    "\n",
    "def visible_trees_slice(trees: List[dict]) -> List[dict]:\n",
    "    visible_trees = []\n",
    "    for idx, tree in enumerate(trees):\n",
    "        if idx == 0:\n",
    "            visible_trees.append(tree)\n",
    "            continue\n",
    "        tree_id, tree_height = list(tree.items())[0]\n",
    "        current_max = max_height(visible_trees)\n",
    "        if tree_height > current_max:\n",
    "            visible_trees.append(tree)\n",
    "    return visible_trees\n",
    "\n",
    "\n",
    "def tree_row(trees, row, reverse=False):\n",
    "    if reverse:\n",
    "        return list(reversed(trees[row]))\n",
    "    return trees[row]\n",
    "\n",
    "def tree_column(trees, column, reverse=False):\n",
    "    if reverse:\n",
    "        trees = reversed(trees)\n",
    "    return [tree[column] for tree in trees]\n",
    "\n",
    "\n",
    "def visible_trees(trees: List[dict], direction_func) -> List[dict]:\n",
    "    all_visible = []\n",
    "    for idx, _ in enumerate(trees):\n",
    "        slice_ = direction_func(trees, idx)\n",
    "        visible = visible_trees_slice(slice_)\n",
    "        all_visible += visible\n",
    "        \n",
    "        slice_ = direction_func(trees, idx, True)\n",
    "        visible = visible_trees_slice(slice_)\n",
    "        all_visible += visible\n",
    "        \n",
    "    return all_visible\n",
    "\n",
    "\n",
    "with open(\"day_8_input.txt\", \"r\") as f:\n",
    "    raw_data = f.readlines()\n",
    "    data = [row.strip(\"\\n\") for row in raw_data]\n",
    "    \n",
    "\n",
    "trees = id_trees(data)\n",
    "\n",
    "\n",
    "visible = []\n",
    "for row, _ in enumerate(trees):\n",
    "    visible += visible_trees_slice(tree_row(trees, row))\n",
    "    visible += visible_trees_slice(tree_row(trees, row, True))\n",
    "    \n",
    "for column, _ in enumerate(trees[0]):\n",
    "    visible += visible_trees_slice(tree_column(trees, column))\n",
    "    visible += visible_trees_slice(tree_column(trees, column, True))\n",
    "    \n",
    "print(\"part_1\", len(get_unique_trees(visible)))"
   ]
  },
  {
   "cell_type": "code",
   "execution_count": null,
   "id": "sought-relations",
   "metadata": {},
   "outputs": [],
   "source": []
  }
 ],
 "metadata": {
  "kernelspec": {
   "display_name": "Python 3",
   "language": "python",
   "name": "python3"
  },
  "language_info": {
   "codemirror_mode": {
    "name": "ipython",
    "version": 3
   },
   "file_extension": ".py",
   "mimetype": "text/x-python",
   "name": "python",
   "nbconvert_exporter": "python",
   "pygments_lexer": "ipython3",
   "version": "3.8.10"
  }
 },
 "nbformat": 4,
 "nbformat_minor": 5
}
