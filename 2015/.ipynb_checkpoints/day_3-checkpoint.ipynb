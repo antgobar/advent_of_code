{
 "cells": [
  {
   "cell_type": "code",
   "execution_count": 54,
   "id": "incorporated-crawford",
   "metadata": {},
   "outputs": [
    {
     "name": "stdout",
     "output_type": "stream",
     "text": [
      "2565\n",
      "2565\n"
     ]
    }
   ],
   "source": [
    "with open(\"day_3_input.txt\", \"r\") as f:\n",
    "    instructions = f.readlines()[0]\n",
    "    \n",
    "\n",
    "locations = {(0, 0): 1}\n",
    "location_map = {\"^\": (1, 0), \"v\": (-1, 0), \">\": (0, 1), \"<\": (0, -1)}\n",
    "x, y = 0, 0\n",
    "for instruction in instructions:\n",
    "    move_x, move_y = location_map[instruction]\n",
    "    x += move_x\n",
    "    y += move_y\n",
    "    new_location = (x, y)\n",
    "    \n",
    "    delivery_count = locations.get(new_location)\n",
    "    if delivery_count is None:\n",
    "        locations[new_location] = 0\n",
    "    locations[new_location] += 1\n",
    "\n",
    "print(len(locations))\n",
    "\n",
    "\n",
    "locations = {(0, 0): 2}\n",
    "x, y = 0, 0\n",
    "for instruction in instructions:\n",
    "    move_x, move_y = location_map[instruction]\n",
    "    x += move_x\n",
    "    y += move_y\n",
    "    new_location = (x, y)\n",
    "    \n",
    "    delivery_count = locations.get(new_location)\n",
    "    if delivery_count is None:\n",
    "        locations[new_location] = 0\n",
    "    locations[new_location] += 1\n",
    "\n",
    "print(len(locations))"
   ]
  }
 ],
 "metadata": {
  "kernelspec": {
   "display_name": "Python 3",
   "language": "python",
   "name": "python3"
  },
  "language_info": {
   "codemirror_mode": {
    "name": "ipython",
    "version": 3
   },
   "file_extension": ".py",
   "mimetype": "text/x-python",
   "name": "python",
   "nbconvert_exporter": "python",
   "pygments_lexer": "ipython3",
   "version": "3.8.10"
  }
 },
 "nbformat": 4,
 "nbformat_minor": 5
}
