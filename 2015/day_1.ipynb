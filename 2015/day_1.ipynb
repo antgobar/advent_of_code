{
 "cells": [
  {
   "cell_type": "code",
   "execution_count": 3,
   "id": "centered-mathematics",
   "metadata": {},
   "outputs": [],
   "source": [
    "with open(\"day_1_input.txt\", \"r\") as f:\n",
    "    data = f.readlines()[0]"
   ]
  },
  {
   "cell_type": "code",
   "execution_count": 18,
   "id": "aggregate-specification",
   "metadata": {},
   "outputs": [],
   "source": [
    "floor = 0\n",
    "to_basement = None\n",
    "for idx, char in enumerate(data):\n",
    "    if char == \"(\":\n",
    "        floor += 1\n",
    "    if char == \")\":\n",
    "        floor -= 1\n",
    "    if to_basement is None:\n",
    "        if floor == -1:\n",
    "            to_basement = idx + 1"
   ]
  },
  {
   "cell_type": "code",
   "execution_count": 20,
   "id": "significant-russian",
   "metadata": {},
   "outputs": [
    {
     "data": {
      "text/plain": [
       "(280, 1797)"
      ]
     },
     "execution_count": 20,
     "metadata": {},
     "output_type": "execute_result"
    }
   ],
   "source": [
    "floor, to_basement"
   ]
  },
  {
   "cell_type": "code",
   "execution_count": null,
   "id": "organizational-preview",
   "metadata": {},
   "outputs": [],
   "source": []
  }
 ],
 "metadata": {
  "kernelspec": {
   "display_name": "Python 3",
   "language": "python",
   "name": "python3"
  },
  "language_info": {
   "codemirror_mode": {
    "name": "ipython",
    "version": 3
   },
   "file_extension": ".py",
   "mimetype": "text/x-python",
   "name": "python",
   "nbconvert_exporter": "python",
   "pygments_lexer": "ipython3",
   "version": "3.8.10"
  }
 },
 "nbformat": 4,
 "nbformat_minor": 5
}
